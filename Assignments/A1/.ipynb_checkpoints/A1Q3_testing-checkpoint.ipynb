{
 "cells": [
  {
   "cell_type": "code",
   "execution_count": 1,
   "id": "8cbe784e",
   "metadata": {},
   "outputs": [],
   "source": [
    "import numpy as np\n",
    "import matplotlib as mpl \n",
    "import matplotlib.pyplot as plt\n",
    "import scipy\n",
    "import sklearn.neighbors\n",
    "import time\n",
    "\n",
    "from data_utils import load_dataset"
   ]
  },
  {
   "cell_type": "code",
   "execution_count": 2,
   "id": "4e4b5175",
   "metadata": {},
   "outputs": [],
   "source": [
    "def knn_classification(x_train, y_train, x_test, k, l=2):\n",
    "    y_star = np.empty((x_test.shape[0], 1))\n",
    "    if (l==1):\n",
    "        tree = sklearn.neighbors.KDTree(x_train, metric='cityblock')\n",
    "    elif (l==2):\n",
    "        tree = sklearn.neighbors.KDTree(x_train, metric='euclidean')\n",
    "    else:\n",
    "        pass\n",
    "    k_nearest_neighbours = tree.query(x_test, k=k, return_distance=False, sort_results=False)\n",
    "    #print(k_nearest_neighbours)\n",
    "    for i, x_test_i in enumerate(x_test):\n",
    "        vals, counts = np.unique(y_train[k_nearest_neighbours[i]], return_counts=True)\n",
    "        #print(vals)\n",
    "        #print(counts)\n",
    "        if np.sum(counts==np.max(counts)) != 1:\n",
    "            #print(k_nearest_neighbours[0])\n",
    "            #print(y_train[k_nearest_neighbours[0]])\n",
    "            y_star[i, 0] = y_train[k_nearest_neighbours[0,0]]   # pick closest neighbour if tie\n",
    "        else:\n",
    "            y_star[i, 0] = vals[np.argmax(counts)]\n",
    "    #print(y_star)\n",
    "    return y_star"
   ]
  },
  {
   "cell_type": "code",
   "execution_count": 3,
   "id": "4be5254f",
   "metadata": {},
   "outputs": [
    {
     "name": "stdout",
     "output_type": "stream",
     "text": [
      "k=1, l=1, accuracy=0.774194\n",
      "k=1, l=2, accuracy=0.774194\n",
      "k=2, l=1, accuracy=0.806452\n",
      "k=2, l=2, accuracy=0.806452\n",
      "k=3, l=1, accuracy=0.774194\n",
      "k=3, l=2, accuracy=0.806452\n",
      "k=4, l=1, accuracy=0.806452\n",
      "k=4, l=2, accuracy=0.806452\n",
      "k=5, l=1, accuracy=0.806452\n",
      "k=5, l=2, accuracy=0.83871\n",
      "k=6, l=1, accuracy=0.774194\n",
      "k=6, l=2, accuracy=0.806452\n",
      "k=7, l=1, accuracy=0.806452\n",
      "k=7, l=2, accuracy=0.870968\n",
      "k=8, l=1, accuracy=0.806452\n",
      "k=8, l=2, accuracy=0.83871\n",
      "k=9, l=1, accuracy=0.83871\n",
      "k=9, l=2, accuracy=0.870968\n",
      "k=10, l=1, accuracy=0.83871\n",
      "k=10, l=2, accuracy=0.870968\n",
      "best params at k=7, l=2 with accuracy=0.870968\n",
      "took 0.02s\n",
      "test a ccuracy with best model: 1.0\n"
     ]
    }
   ],
   "source": [
    "np.random.seed(1000)\n",
    "\n",
    "x_train, x_valid, x_test, y_train, y_valid, y_test = load_dataset('iris')\n",
    "\n",
    "# convert onehot encoding to integer class\n",
    "# np.tile, np.arange faster than np.argmax method\n",
    "y_train = np.tile(np.arange(y_train.shape[1]).reshape((1,-1)), (y_train.shape[0], 1))[y_train].reshape((-1, 1))\n",
    "y_valid = np.tile(np.arange(y_valid.shape[1]).reshape((1,-1)), (y_valid.shape[0], 1))[y_valid].reshape((-1, 1))\n",
    "y_test = np.tile(np.arange(y_test.shape[1]).reshape((1,-1)), (y_test.shape[0], 1))[y_test].reshape((-1, 1))\n",
    "\n",
    "n = int(x_train.shape[0])\n",
    "t0 = time.time()\n",
    "accuracy = np.empty((int(np.sqrt(n)), 2))\n",
    "for a in range(1, int(np.sqrt(n))+1, 1):\n",
    "    for b in range(1, 3, 1):\n",
    "        y_star = knn_classification(x_train, y_train, x_valid, a, b)\n",
    "        accuracy[a-1, b-1] = np.mean(y_star == y_valid)\n",
    "        print(\"k={a}, l={b}, accuracy={accuracy}\".format(a=a, b=b, accuracy=round(accuracy[a-1, b-1], 6)))\n",
    "\n",
    "best = np.unravel_index(np.argmax(accuracy), accuracy.shape)\n",
    "print(\"best params at k={a}, l={b} with accuracy={accuracy}\".format(a=best[0]+1, b=best[1]+1, accuracy=round(accuracy[best], 6)))\n",
    "print(\"took {t}s\".format(t=round(time.time()-t0, 2)))\n",
    "y_star = knn_classification(x_train, y_train, x_test, best[0]+1, best[1]+1)\n",
    "print('test a ccuracy with best model: {accuracy}'.format(accuracy=round(np.mean(y_star == y_test), 6)))\n"
   ]
  },
  {
   "cell_type": "code",
   "execution_count": null,
   "id": "bb1f8269",
   "metadata": {},
   "outputs": [],
   "source": [
    "np.random.seed(1000)\n",
    "\n",
    "x_train, x_valid, x_test, y_train, y_valid, y_test = load_dataset('mnist_small')\n",
    "\n",
    "# convert onehot encoding to integer class\n",
    "# np.tile, np.arange faster than np.argmax method\n",
    "y_train = np.tile(np.arange(y_train.shape[1]).reshape((1,-1)), (y_train.shape[0], 1))[y_train].reshape((-1, 1))\n",
    "y_valid = np.tile(np.arange(y_valid.shape[1]).reshape((1,-1)), (y_valid.shape[0], 1))[y_valid].reshape((-1, 1))\n",
    "y_test = np.tile(np.arange(y_test.shape[1]).reshape((1,-1)), (y_test.shape[0], 1))[y_test].reshape((-1, 1))\n",
    "\n",
    "print('dataset mnist_small')\n",
    "n = int(x_train.shape[0])\n",
    "print(n)\n",
    "t0 = time.time()\n",
    "accuracy = np.empty((int(np.sqrt(n)), 2))\n",
    "for a in range(1, int(np.sqrt(n))+1, 1):\n",
    "    for b in range(1, 3, 1):\n",
    "        predictions = knn_classification(x_train, y_train, x_valid, a, b)\n",
    "        accuracy[a-1, b-1] = np.mean(predictions == y_valid)\n",
    "        print(\"k={a}, l={b}, accuracy={accuracy}\".format(a=a, b=b, accuracy=round(accuracy[a-1, b-1], 6)))\n",
    "best = np.unravel_index(np.argmax(accuracy), accuracy.shape)\n",
    "print(\"best params at k={a}, l={b} with accuracy={accuracy}\".format(a=best[0]+1, b=best[1]+1, accuracy=round(accuracy[best], 6)))\n",
    "print(\"took {t}s\".format(t=round(time.time()-t0, 2)))\n",
    "y_star = knn_classification(x_train, y_train, x_test, best[0]+1, best[1]+1)\n",
    "print('test accuracy with best model: {accuracy}'.format(accuracy=round(np.mean(y_star == y_test), 6)))\n"
   ]
  },
  {
   "cell_type": "code",
   "execution_count": null,
   "id": "81c71645",
   "metadata": {},
   "outputs": [],
   "source": []
  }
 ],
 "metadata": {
  "kernelspec": {
   "display_name": "Python 3 (ipykernel)",
   "language": "python",
   "name": "python3"
  },
  "language_info": {
   "codemirror_mode": {
    "name": "ipython",
    "version": 3
   },
   "file_extension": ".py",
   "mimetype": "text/x-python",
   "name": "python",
   "nbconvert_exporter": "python",
   "pygments_lexer": "ipython3",
   "version": "3.11.5"
  }
 },
 "nbformat": 4,
 "nbformat_minor": 5
}
