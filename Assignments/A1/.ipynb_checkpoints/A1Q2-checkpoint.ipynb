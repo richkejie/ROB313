{
 "cells": [
  {
   "cell_type": "code",
   "execution_count": 3,
   "id": "8121a120",
   "metadata": {},
   "outputs": [],
   "source": [
    "import numpy as np\n",
    "import matplotlib.pyplot as plt\n",
    "import time\n",
    "import sklearn.neighbors\n",
    "from data_utils import load_dataset"
   ]
  },
  {
   "cell_type": "code",
   "execution_count": 4,
   "id": "0ba15976",
   "metadata": {},
   "outputs": [],
   "source": [
    "# first, implement distance metric as separate function\n",
    "def minkowski_dists(x_train, x_test_i, l=2):\n",
    "    \n",
    "    \"\"\"\n",
    "    Returns Minkowski distance between each element\n",
    "    of x_train and x_test_i as a (D,1) np array\n",
    "    \n",
    "    x_train is a (D,n) array\n",
    "    x_test_i is a (n,) array\n",
    "    \n",
    "    dists is a (D,1) array\n",
    "    \"\"\"\n",
    "    \n",
    "    p = l\n",
    "    x_test_i = x_test_i.reshape((1,-1)) # converts x_test_i to a (1,n) array\n",
    "    # not necessary... will still work w/out this b/c broadcasting\n",
    "    diff = np.abs(x_train-x_test_i)\n",
    "    power = np.power(diff,p)\n",
    "    sigma = np.sum(power,axis=1).reshape((x_train.shape[0],-1)) # axis = 1 --> sum along rows\n",
    "    dists = np.power(sigma,1/p)\n",
    "    return dists\n",
    "\n",
    "def kNN_regress(x_train, y_train, x_test, k=1, l=2):\n",
    "    \n",
    "    \"\"\"\n",
    "    Returns y_predict results corresponding to x_test inputs using kNN algorithm\n",
    "    \n",
    "    x_train is a (D,n) array\n",
    "    y_train is a (D,1) array (regression: single output)\n",
    "    x_test is a (T,n) array\n",
    "    \n",
    "    y_predict is a (T,1) array (regression: single output)\n",
    "    \"\"\"\n",
    "    \n",
    "    num_test_points = x_test.shape[0]\n",
    "    y_predict = np.empty((num_test_points,1),)\n",
    "    \n",
    "    # compute distances (for each test point)\n",
    "    # assume distance metric is the Minkowski distance\n",
    "    for i, x_test_i in enumerate(x_test):\n",
    "        dists = minkowski_dists(x_train, x_test_i,l)\n",
    "        partition = np.argpartition(dists,kth=k,axis=0) # returns indices of dists\n",
    "                                                        # axis = 0 --> partition along column\n",
    "        kNN = partition[:k]\n",
    "        y_predict[i,0] = np.average(y_train[kNN,0])\n",
    "    \n",
    "    return y_predict"
   ]
  },
  {
   "cell_type": "code",
   "execution_count": 5,
   "id": "ae308d7a",
   "metadata": {},
   "outputs": [
    {
     "ename": "SyntaxError",
     "evalue": "incomplete input (1036852222.py, line 2)",
     "output_type": "error",
     "traceback": [
      "\u001b[1;36m  Cell \u001b[1;32mIn[5], line 2\u001b[1;36m\u001b[0m\n\u001b[1;33m    \u001b[0m\n\u001b[1;37m    ^\u001b[0m\n\u001b[1;31mSyntaxError\u001b[0m\u001b[1;31m:\u001b[0m incomplete input\n"
     ]
    }
   ],
   "source": [
    "def kNN_regress_kdtree(x_train, y_train, x_test, k=1, l=2):\n",
    "    "
   ]
  },
  {
   "cell_type": "code",
   "execution_count": null,
   "id": "6523d2ef",
   "metadata": {},
   "outputs": [],
   "source": [
    "x_train, x_valid, x_test, y_train, y_valid, y_test = load_dataset('rosenbrock', n_train=5000, d=2)"
   ]
  }
 ],
 "metadata": {
  "kernelspec": {
   "display_name": "Python 3 (ipykernel)",
   "language": "python",
   "name": "python3"
  },
  "language_info": {
   "codemirror_mode": {
    "name": "ipython",
    "version": 3
   },
   "file_extension": ".py",
   "mimetype": "text/x-python",
   "name": "python",
   "nbconvert_exporter": "python",
   "pygments_lexer": "ipython3",
   "version": "3.11.5"
  }
 },
 "nbformat": 4,
 "nbformat_minor": 5
}
