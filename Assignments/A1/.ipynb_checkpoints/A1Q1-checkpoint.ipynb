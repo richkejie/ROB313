{
 "cells": [
  {
   "cell_type": "code",
   "execution_count": 1,
   "id": "d4fab873",
   "metadata": {},
   "outputs": [],
   "source": [
    "import numpy as np\n",
    "import matplotlib.pyplot as plt\n",
    "import time\n",
    "from data_utils import load_dataset"
   ]
  },
  {
   "cell_type": "markdown",
   "id": "71d26084",
   "metadata": {},
   "source": [
    "Below are the 3 regression datasets"
   ]
  },
  {
   "cell_type": "code",
   "execution_count": null,
   "id": "eac339ee",
   "metadata": {},
   "outputs": [],
   "source": [
    "x_train, x_valid, x_test, y_train, y_valid, y_test = load_dataset('mauna_loa')"
   ]
  },
  {
   "cell_type": "code",
   "execution_count": null,
   "id": "93bf8159",
   "metadata": {},
   "outputs": [],
   "source": [
    "x_train, x_valid, x_test, y_train, y_valid, y_test = load_dataset('rosenbrock', n_train=1000, d=2)"
   ]
  },
  {
   "cell_type": "code",
   "execution_count": null,
   "id": "383d9778",
   "metadata": {},
   "outputs": [],
   "source": [
    "x_train, x_valid, x_test, y_train, y_valid, y_test = load_dataset('pumadyn32nm')"
   ]
  },
  {
   "cell_type": "code",
   "execution_count": 2,
   "id": "6c0f8cd2",
   "metadata": {},
   "outputs": [],
   "source": [
    "np.random.seed(100)"
   ]
  },
  {
   "cell_type": "markdown",
   "id": "6097e696",
   "metadata": {},
   "source": [
    "Below is an implementation of the kNN algorithm for regression."
   ]
  },
  {
   "cell_type": "code",
   "execution_count": 3,
   "id": "760c5b89",
   "metadata": {},
   "outputs": [],
   "source": [
    "# first, implement distance metric as separate function\n",
    "def minkowski_dists(x_train, x_test_i, l=2):\n",
    "    \n",
    "    \"\"\"\n",
    "    Returns Minkowski distance between each element\n",
    "    of x_train and x_test_i as a (D,1) np array\n",
    "    \n",
    "    x_train is a (D,n) array\n",
    "    x_test_i is a (n,) array\n",
    "    \n",
    "    dists is a (D,1) array\n",
    "    \"\"\"\n",
    "    \n",
    "    p = l\n",
    "    x_test_i = x_test_i.reshape((1,-1)) # converts x_test_i to a (1,n) array\n",
    "    # not necessary... will still work w/out this b/c broadcasting\n",
    "    diff = np.abs(x_train-x_test_i)\n",
    "    power = np.power(diff,p)\n",
    "    sigma = np.sum(power,axis=1).reshape((x_train.shape[0],-1)) # axis = 1 --> sum along rows\n",
    "    dists = np.power(sigma,1/p)\n",
    "    return dists\n",
    "\n",
    "def kNN_regress(x_train, y_train, x_test, k=1, l=2):\n",
    "    \n",
    "    \"\"\"\n",
    "    Returns y_predict results corresponding to x_test inputs using kNN algorithm\n",
    "    \n",
    "    x_train is a (D,n) array\n",
    "    y_train is a (D,1) array (regression: single output)\n",
    "    x_test is a (T,n) array\n",
    "    \n",
    "    y_predict is a (T,1) array (regression: single output)\n",
    "    \"\"\"\n",
    "    \n",
    "    num_test_points = x_test.shape[0]\n",
    "    y_predict = np.empty((num_test_points,1),)\n",
    "    \n",
    "    # compute distances (for each test point)\n",
    "    # assume distance metric is the Minkowski distance\n",
    "    for i, x_test_i in enumerate(x_test):\n",
    "        dists = minkowski_dists(x_train, x_test_i,l)\n",
    "        partition = np.argpartition(dists,kth=k,axis=0) # returns indices of dists\n",
    "                                                        # axis = 0 --> partition along column\n",
    "        kNN = partition[:k]\n",
    "        y_predict[i,0] = np.average(y_train[kNN,0])\n",
    "    \n",
    "    return y_predict"
   ]
  },
  {
   "cell_type": "markdown",
   "id": "b9a9967b",
   "metadata": {},
   "source": [
    "Implementation of v-fold cross-validation with v = 5:"
   ]
  },
  {
   "cell_type": "code",
   "execution_count": 4,
   "id": "1a37951a",
   "metadata": {},
   "outputs": [],
   "source": [
    "def v_fold_cross_validation_RMSE(x_train, y_train, N, k=1, max_l=2, v=5, testing_runtime=False):\n",
    "    \n",
    "    \"\"\"\n",
    "    Conducts cross validation on x_train and y_train with v folds\n",
    "    \n",
    "    x_train and y_train are (N,n) arrays\n",
    "    trains using kNN validation with k\n",
    "    repeats model with different minkowski distance metric with p up to max_l\n",
    "    \n",
    "    Returns the average RMSE across the folds and for each p up to max_l\n",
    "    RMSE_avg is a (1,max_l) array\n",
    "    \"\"\"\n",
    "    \n",
    "    # divide data into v equal folds\n",
    "    # split data into folds (by index)\n",
    "    idx = np.arange(N,dtype=int)\n",
    "    if (N%v != 0):\n",
    "        # as N is not be a perfect multiple of v, add in 'fake' numbers that will be cleaned later\n",
    "        extra = np.random.choice(idx, size=N%v, replace=False)\n",
    "        idx = np.delete(idx,extra)\n",
    "        idx = np.random.permutation(idx).reshape((v,-1))\n",
    "        temp = -1 * np.ones(idx.shape[0], dtype=int)\n",
    "        temp[:extra.shape[0]] = extra\n",
    "        temp = temp.reshape(idx.shape[0],1)\n",
    "        idx = np.hstack((idx,temp))\n",
    "    else:\n",
    "        idx = np.random.permutation(idx).reshape((v,-1))\n",
    "    \n",
    "    RMSE = np.empty((v,max_l))\n",
    "    \n",
    "    # train and test for each fold\n",
    "    for i in range(v):\n",
    "        ith_fold_idx = idx[i]\n",
    "        ith_fold_idx = [i for i in ith_fold_idx if i>=0]\n",
    "        training_idx = np.delete(idx, i, axis=0)\n",
    "        training_idx = training_idx.reshape(-1) # flatten the array\n",
    "        training_idx = [i for i in training_idx if i>=0]\n",
    "        \n",
    "        x_tr, y_tr = x_train[training_idx], y_train[training_idx]\n",
    "        x_val, y_val = x_train[ith_fold_idx], y_train[ith_fold_idx]\n",
    "        \n",
    "        for l in range(1,max_l+1,1):\n",
    "            y_predict = kNN_regress(x_tr, y_tr, x_val, k=k, l=l)\n",
    "            RMSE[i,l-1] = np.sqrt(np.mean(np.square(y_val-y_predict)))\n",
    "        \n",
    "    RMSE_avg = np.average(RMSE, axis=0)\n",
    "    \n",
    "    if not testing_runtime:\n",
    "        print(\"k={}\".format(k))\n",
    "        for l in range(max_l):\n",
    "            print(\"\\tl={l}, RMSE={RMSE_avg}\".format(l=l+1, RMSE_avg=round(RMSE_avg[l], 6)))\n",
    "    \n",
    "    return RMSE_avg \n",
    "\n",
    "def estimate_best_param(x_train, y_train, v=5, max_l=2):\n",
    "    \n",
    "    \"\"\"\n",
    "    Estimates the best k and l values for optimal model results (i.e., tunes the model parameters)\n",
    "    Uses cross validation with v folds for tuning\n",
    "    Repeats training with different minkowski distance metric with p up to max_l\n",
    "    \n",
    "    x_train and y_train are (N,n) arrays\n",
    "    \n",
    "    Returns average RMSE across folds for each k up to sqrt(N) and for each p up to max_l\n",
    "    RMSE_avg is (sqrt(N),max_l) array\n",
    "    Returns best_k and best_l --> ints\n",
    "    \"\"\"\n",
    "    \n",
    "    # assume training data includes both training and validation sets\n",
    "    print(\"Running...\")\n",
    "    \n",
    "    N = x_train.shape[0] # number of training points\n",
    "    k_max = int(np.sqrt(N)) # rule of thumb: k <= sqrt(N)\n",
    "    RMSE_avg = np.empty((k_max,max_l)) # RMSE_avg[k][l] stores the average RMSE value for k, l distance metric\n",
    "    \n",
    "    # timing estimate\n",
    "    t0 = time.time()\n",
    "    print(\"Estimating running time...\")\n",
    "    v_fold_cross_validation_RMSE(x_train, y_train, N=N, k=k_max//2, max_l=max_l, v=v, testing_runtime=True)\n",
    "    print(\"Estimated running time: {}s\".format(round((time.time()-t0)*k_max,2)))\n",
    "    \n",
    "    # start parameter tuning\n",
    "    t0 = time.time()\n",
    "    print(\"Beginning parameter tuning...\")\n",
    "    \n",
    "    for k in range(1, k_max+1, 1):\n",
    "        RMSE_avg[k-1] = v_fold_cross_validation_RMSE(x_train, y_train, N=N, k=k, max_l=max_l, v=v)\n",
    "    \n",
    "    best_k, best_l = np.unravel_index(np.argmin(RMSE_avg), RMSE_avg.shape)\n",
    "    best_k += 1\n",
    "    best_l += 1\n",
    "    print(\"Best: k={}, l={}; with min avg RMSE={}\".format(best_k, best_l, round(RMSE_avg[best_k-1,best_l-1],6)))\n",
    "    print(\"took {}s\".format(round(time.time()-t0,2)))\n",
    "    return RMSE_avg, best_k, best_l"
   ]
  },
  {
   "cell_type": "markdown",
   "id": "5c17b361",
   "metadata": {},
   "source": [
    "Run mauna_loa dataset:"
   ]
  },
  {
   "cell_type": "code",
   "execution_count": 5,
   "id": "f5e51942",
   "metadata": {
    "scrolled": true
   },
   "outputs": [
    {
     "name": "stdout",
     "output_type": "stream",
     "text": [
      "Running...\n",
      "Estimating running time...\n",
      "Estimated running time: 2.92s\n",
      "Beginning parameter tuning...\n",
      "k=1\n",
      "\tl=1, RMSE=0.045842\n",
      "\tl=2, RMSE=0.045842\n",
      "k=2\n",
      "\tl=1, RMSE=0.035994\n",
      "\tl=2, RMSE=0.035994\n",
      "k=3\n",
      "\tl=1, RMSE=0.040438\n",
      "\tl=2, RMSE=0.040438\n",
      "k=4\n",
      "\tl=1, RMSE=0.045324\n",
      "\tl=2, RMSE=0.045324\n",
      "k=5\n",
      "\tl=1, RMSE=0.054768\n",
      "\tl=2, RMSE=0.054768\n",
      "k=6\n",
      "\tl=1, RMSE=0.065074\n",
      "\tl=2, RMSE=0.065074\n",
      "k=7\n",
      "\tl=1, RMSE=0.072095\n",
      "\tl=2, RMSE=0.072095\n",
      "k=8\n",
      "\tl=1, RMSE=0.078033\n",
      "\tl=2, RMSE=0.078033\n",
      "k=9\n",
      "\tl=1, RMSE=0.08437\n",
      "\tl=2, RMSE=0.08437\n",
      "k=10\n",
      "\tl=1, RMSE=0.090634\n",
      "\tl=2, RMSE=0.090634\n",
      "k=11\n",
      "\tl=1, RMSE=0.09263\n",
      "\tl=2, RMSE=0.09263\n",
      "k=12\n",
      "\tl=1, RMSE=0.09286\n",
      "\tl=2, RMSE=0.09286\n",
      "k=13\n",
      "\tl=1, RMSE=0.093499\n",
      "\tl=2, RMSE=0.093499\n",
      "k=14\n",
      "\tl=1, RMSE=0.09247\n",
      "\tl=2, RMSE=0.09247\n",
      "k=15\n",
      "\tl=1, RMSE=0.091171\n",
      "\tl=2, RMSE=0.091171\n",
      "k=16\n",
      "\tl=1, RMSE=0.088776\n",
      "\tl=2, RMSE=0.088776\n",
      "k=17\n",
      "\tl=1, RMSE=0.084046\n",
      "\tl=2, RMSE=0.084046\n",
      "k=18\n",
      "\tl=1, RMSE=0.080495\n",
      "\tl=2, RMSE=0.080495\n",
      "k=19\n",
      "\tl=1, RMSE=0.077101\n",
      "\tl=2, RMSE=0.077101\n",
      "k=20\n",
      "\tl=1, RMSE=0.075457\n",
      "\tl=2, RMSE=0.075457\n",
      "k=21\n",
      "\tl=1, RMSE=0.073557\n",
      "\tl=2, RMSE=0.073557\n",
      "k=22\n",
      "\tl=1, RMSE=0.07269\n",
      "\tl=2, RMSE=0.07269\n",
      "k=23\n",
      "\tl=1, RMSE=0.072047\n",
      "\tl=2, RMSE=0.072047\n",
      "k=24\n",
      "\tl=1, RMSE=0.071971\n",
      "\tl=2, RMSE=0.071971\n",
      "k=25\n",
      "\tl=1, RMSE=0.073421\n",
      "\tl=2, RMSE=0.073421\n",
      "Best: k=2, l=1; with min avg RMSE=0.035994\n",
      "took 2.46s\n"
     ]
    }
   ],
   "source": [
    "x_train, x_valid, x_test, y_train, y_valid, y_test = load_dataset('mauna_loa')\n",
    "x_train = np.vstack([x_valid, x_train])\n",
    "y_train = np.vstack([y_valid, y_train])\n",
    "\n",
    "RMSE_avg, best_k, best_l = estimate_best_param(x_train, y_train, v=5, max_l=2)"
   ]
  },
  {
   "cell_type": "markdown",
   "id": "b0fe0f16",
   "metadata": {},
   "source": [
    "Use best k and l to test model and find test RMSE:"
   ]
  },
  {
   "cell_type": "code",
   "execution_count": 6,
   "id": "a1922903",
   "metadata": {},
   "outputs": [],
   "source": [
    "def test_model_RMSE(x_train, y_train, x_test, y_test, best_k, best_l):\n",
    "    # run model\n",
    "    y_predict = kNN_regress(x_train, y_train, x_test, k=best_k, l=best_l)\n",
    "    \n",
    "    # find RMSE between y_predict and y_test\n",
    "    RMSE_test = np.sqrt(np.mean(np.square(y_predict-y_test)))\n",
    "    \n",
    "    return RMSE_test"
   ]
  },
  {
   "cell_type": "code",
   "execution_count": 7,
   "id": "08b3ce19",
   "metadata": {},
   "outputs": [
    {
     "name": "stdout",
     "output_type": "stream",
     "text": [
      "RMSE of model on test data for k=2 and l=1: 0.44070489035463933\n"
     ]
    }
   ],
   "source": [
    "RMSE_test = test_model_RMSE(x_train, y_train, x_test, y_test, best_k, best_l)\n",
    "print(\"RMSE of model on test data for k={k} and l={l}: {RMSE_test}\".format(k=best_k, l=best_l, RMSE_test=RMSE_test))"
   ]
  },
  {
   "cell_type": "markdown",
   "id": "03faf29c",
   "metadata": {},
   "source": [
    "RMSE vs k plot for mauna_loa dataset:"
   ]
  },
  {
   "cell_type": "code",
   "execution_count": 8,
   "id": "fcdc1b90",
   "metadata": {
    "scrolled": false
   },
   "outputs": [
    {
     "data": {
      "text/plain": [
       "[<matplotlib.lines.Line2D at 0x7fb450e23460>]"
      ]
     },
     "execution_count": 8,
     "metadata": {},
     "output_type": "execute_result"
    },
    {
     "data": {
      "image/png": "[encoded data removed]",
      "text/plain": [
       "<Figure size 432x288 with 1 Axes>"
      ]
     },
     "metadata": {
      "needs_background": "light"
     },
     "output_type": "display_data"
    }
   ],
   "source": [
    "plt.figure()\n",
    "plt.title(\"Average Cross Validation RMSE vs k for l_2 (mauna_loa dataset)\")\n",
    "plt.xlabel('k')\n",
    "plt.ylabel('Average RMSE')\n",
    "k_max = int(np.sqrt(x_train.shape[0]))\n",
    "l = 2\n",
    "x_axis = np.arange(k_max) + 1\n",
    "y_axis = RMSE_avg[:,l-1]\n",
    "plt.grid(visible=True)\n",
    "plt.xticks(range(min(x_axis), max(x_axis)+1))\n",
    "plt.plot(x_axis, y_axis)"
   ]
  },
  {
   "cell_type": "markdown",
   "id": "94602ea9",
   "metadata": {},
   "source": [
    "We see k = 2 is the location of min RMSE. However, we also have k = 24 as a local min and k = 13 as the max. Let's plot the regression model predictions for k = 2, k = 24, and k = 13 and compare with the actual test targets:"
   ]
  },
  {
   "cell_type": "code",
   "execution_count": 9,
   "id": "c0ccecb9",
   "metadata": {},
   "outputs": [
    {
     "data": {
      "text/plain": [
       "<matplotlib.legend.Legend at 0x7fb450e3d250>"
      ]
     },
     "execution_count": 9,
     "metadata": {},
     "output_type": "execute_result"
    },
    {
     "data": {
      "image/png": "[encoded data removed]",
      "text/plain": [
       "<Figure size 432x288 with 1 Axes>"
      ]
     },
     "metadata": {
      "needs_background": "light"
     },
     "output_type": "display_data"
    }
   ],
   "source": [
    "plt.figure()\n",
    "plt.title(\"Comparison of test predictions for k = 2, k = 24, k = 13 and actual targets (l_2)\")\n",
    "plt.xlabel(\"Input\")\n",
    "plt.ylabel(\"Target (Output)\")\n",
    "plt.plot(x_test, y_test, label='actual')\n",
    "y_predict_k2 = kNN_regress(x_train, y_train, x_test, k=2, l=2)\n",
    "y_predict_k24 = kNN_regress(x_train, y_train, x_test, k=24, l=2)\n",
    "y_predict_k13 = kNN_regress(x_train, y_train, x_test, k=13, l=2)\n",
    "plt.plot(x_test, y_predict_k2, label=\"k=2\")\n",
    "plt.plot(x_test, y_predict_k24, label=\"k=24\")\n",
    "plt.plot(x_test, y_predict_k13, label=\"k=13\")\n",
    "plt.legend(loc='best')"
   ]
  },
  {
   "cell_type": "markdown",
   "id": "dcb2d842",
   "metadata": {},
   "source": [
    "As we can see, the predictions for all three predictions are not close at all, not even the behaviour of the data is captured. k = 13 is slightly closer to the actual targets than the other predictions."
   ]
  },
  {
   "cell_type": "markdown",
   "id": "1f8838f7",
   "metadata": {},
   "source": [
    "Let's also plot the regression model for the training set:"
   ]
  },
  {
   "cell_type": "code",
   "execution_count": 10,
   "id": "dfb5ce80",
   "metadata": {},
   "outputs": [
    {
     "data": {
      "text/plain": [
       "<matplotlib.legend.Legend at 0x7fb450f6dd00>"
      ]
     },
     "execution_count": 10,
     "metadata": {},
     "output_type": "execute_result"
    },
    {
     "data": {
      "image/png": "[encoded data removed]",
      "text/plain": [
       "<Figure size 432x288 with 1 Axes>"
      ]
     },
     "metadata": {
      "needs_background": "light"
     },
     "output_type": "display_data"
    }
   ],
   "source": [
    "plt.figure()\n",
    "plt.title(\"Comparison of training predictions for k = 2, k = 24, k = 13 and actual targets (l_2)\")\n",
    "plt.xlabel(\"Input\")\n",
    "plt.ylabel(\"Target (Output)\")\n",
    "plt.plot(x_train, y_train, label='actual')\n",
    "y_predict_k2 = kNN_regress(x_train, y_train, x_train, k=2, l=2)\n",
    "y_predict_k24 = kNN_regress(x_train, y_train, x_train, k=24, l=2)\n",
    "y_predict_k13 = kNN_regress(x_train, y_train, x_train, k=13, l=2)\n",
    "plt.plot(x_train, y_predict_k2, label=\"k=2\")\n",
    "plt.plot(x_train, y_predict_k24, label=\"k=24\")\n",
    "plt.plot(x_train, y_predict_k13, label=\"k=13\")\n",
    "plt.legend(loc='best')"
   ]
  },
  {
   "cell_type": "markdown",
   "id": "9b563f7e",
   "metadata": {},
   "source": [
    "As we can see, the model for k = 2 overfits the training data and the models for k = 24 and k = 13 underfit the training data (it is difficult to see the difference between k = 24 and k = 13, they are almost identical)."
   ]
  },
  {
   "cell_type": "markdown",
   "id": "599e3de8",
   "metadata": {},
   "source": [
    "One reason why the prediction are so far off of the actual targets is because of how the dataset is divided. The test data is outside of the domain that the training (and validation) datasets encompass. So the model is trying to extrapolate predictions; however, kNN is not a great model for extrapolation prediction. It is much better at interpolation (as the previous graph shows). To see this effect, let's mix the data splits and re-split randomly:"
   ]
  },
  {
   "cell_type": "code",
   "execution_count": 11,
   "id": "7bbd9f16",
   "metadata": {},
   "outputs": [
    {
     "name": "stdout",
     "output_type": "stream",
     "text": [
      "Running...\n",
      "Estimating running time...\n",
      "Estimated running time: 2.67s\n",
      "Beginning parameter tuning...\n",
      "k=1\n",
      "\tl=1, RMSE=0.049786\n",
      "\tl=2, RMSE=0.049786\n",
      "k=2\n",
      "\tl=1, RMSE=0.038996\n",
      "\tl=2, RMSE=0.038996\n",
      "k=3\n",
      "\tl=1, RMSE=0.048099\n",
      "\tl=2, RMSE=0.048099\n",
      "k=4\n",
      "\tl=1, RMSE=0.056413\n",
      "\tl=2, RMSE=0.056413\n",
      "k=5\n",
      "\tl=1, RMSE=0.0639\n",
      "\tl=2, RMSE=0.0639\n",
      "k=6\n",
      "\tl=1, RMSE=0.07238\n",
      "\tl=2, RMSE=0.07238\n",
      "k=7\n",
      "\tl=1, RMSE=0.078253\n",
      "\tl=2, RMSE=0.078253\n",
      "k=8\n",
      "\tl=1, RMSE=0.085042\n",
      "\tl=2, RMSE=0.085042\n",
      "k=9\n",
      "\tl=1, RMSE=0.090565\n",
      "\tl=2, RMSE=0.090565\n",
      "k=10\n",
      "\tl=1, RMSE=0.092849\n",
      "\tl=2, RMSE=0.092849\n",
      "k=11\n",
      "\tl=1, RMSE=0.095006\n",
      "\tl=2, RMSE=0.095006\n",
      "k=12\n",
      "\tl=1, RMSE=0.094504\n",
      "\tl=2, RMSE=0.094504\n",
      "k=13\n",
      "\tl=1, RMSE=0.093214\n",
      "\tl=2, RMSE=0.093214\n",
      "k=14\n",
      "\tl=1, RMSE=0.090828\n",
      "\tl=2, RMSE=0.090828\n",
      "k=15\n",
      "\tl=1, RMSE=0.087431\n",
      "\tl=2, RMSE=0.087431\n",
      "k=16\n",
      "\tl=1, RMSE=0.082956\n",
      "\tl=2, RMSE=0.082956\n",
      "k=17\n",
      "\tl=1, RMSE=0.080201\n",
      "\tl=2, RMSE=0.080201\n",
      "k=18\n",
      "\tl=1, RMSE=0.075194\n",
      "\tl=2, RMSE=0.075194\n",
      "k=19\n",
      "\tl=1, RMSE=0.075464\n",
      "\tl=2, RMSE=0.075464\n",
      "k=20\n",
      "\tl=1, RMSE=0.074297\n",
      "\tl=2, RMSE=0.074297\n",
      "k=21\n",
      "\tl=1, RMSE=0.073531\n",
      "\tl=2, RMSE=0.073531\n",
      "k=22\n",
      "\tl=1, RMSE=0.074694\n",
      "\tl=2, RMSE=0.074694\n",
      "k=23\n",
      "\tl=1, RMSE=0.076233\n",
      "\tl=2, RMSE=0.076233\n",
      "k=24\n",
      "\tl=1, RMSE=0.077637\n",
      "\tl=2, RMSE=0.077637\n",
      "k=25\n",
      "\tl=1, RMSE=0.080391\n",
      "\tl=2, RMSE=0.080391\n",
      "Best: k=2, l=1; with min avg RMSE=0.038996\n",
      "took 2.45s\n",
      "RMSE of model on test data for k=2 and l=1: 0.02277457029776146\n"
     ]
    },
    {
     "data": {
      "text/plain": [
       "[<matplotlib.lines.Line2D at 0x7fb451094b50>]"
      ]
     },
     "execution_count": 11,
     "metadata": {},
     "output_type": "execute_result"
    },
    {
     "data": {
      "image/png": "[encoded data removed]",
      "text/plain": [
       "<Figure size 432x288 with 1 Axes>"
      ]
     },
     "metadata": {
      "needs_background": "light"
     },
     "output_type": "display_data"
    }
   ],
   "source": [
    "x_train, x_valid, x_test, y_train, y_valid, y_test = load_dataset('mauna_loa')\n",
    "train_size = x_train.shape[0] + x_valid.shape[0]\n",
    "test_size = x_test.shape[0]\n",
    "\n",
    "x_data = np.vstack([x_train, x_valid, x_test])\n",
    "y_data = np.vstack([y_train, y_valid, y_test])\n",
    "idx = np.arange(x_data.shape[0])\n",
    "\n",
    "np.random.shuffle(idx)\n",
    "train_idx = idx[:train_size]\n",
    "test_idx = idx[train_size:]\n",
    "\n",
    "x_train = x_data[train_idx]\n",
    "y_train = y_data[train_idx]\n",
    "\n",
    "train_idx_sort = np.argsort(x_train,0).flatten()\n",
    "x_train = x_train[train_idx_sort]\n",
    "y_train = y_train[train_idx_sort]\n",
    "\n",
    "x_test = x_data[test_idx]\n",
    "y_test = y_data[test_idx]\n",
    "\n",
    "test_idx_sort = np.argsort(x_test,0).flatten()\n",
    "x_test = x_test[test_idx_sort]\n",
    "y_test = y_test[test_idx_sort]\n",
    "\n",
    "RMSE_avg, best_k, best_l = estimate_best_param(x_train, y_train, v=5, max_l=2)\n",
    "RMSE_test = test_model_RMSE(x_train, y_train, x_test, y_test, best_k, best_l)\n",
    "print(\"RMSE of model on test data for k={k} and l={l}: {RMSE_test}\".format(k=best_k, l=best_l, RMSE_test=RMSE_test))\n",
    "\n",
    "plt.figure()\n",
    "plt.title(\"Average Cross Validation RMSE vs k for l_2 (mauna_loa dataset)\")\n",
    "plt.xlabel('k')\n",
    "plt.ylabel('Average RMSE')\n",
    "k_max = int(np.sqrt(x_train.shape[0]))\n",
    "l = 2\n",
    "x_axis = np.arange(k_max) + 1\n",
    "y_axis = RMSE_avg[:,l-1]\n",
    "plt.grid(visible=True)\n",
    "plt.xticks(range(min(x_axis), max(x_axis)+1))\n",
    "plt.plot(x_axis, y_axis)"
   ]
  },
  {
   "cell_type": "code",
   "execution_count": 12,
   "id": "25169c4a",
   "metadata": {},
   "outputs": [
    {
     "data": {
      "text/plain": [
       "<matplotlib.legend.Legend at 0x7fb41009e310>"
      ]
     },
     "execution_count": 12,
     "metadata": {},
     "output_type": "execute_result"
    },
    {
     "data": {
      "image/png": "[encoded data removed]",
      "text/plain": [
       "<Figure size 432x288 with 1 Axes>"
      ]
     },
     "metadata": {
      "needs_background": "light"
     },
     "output_type": "display_data"
    },
    {
     "data": {
      "image/png": "[encoded data removed]",
      "text/plain": [
       "<Figure size 432x288 with 1 Axes>"
      ]
     },
     "metadata": {
      "needs_background": "light"
     },
     "output_type": "display_data"
    }
   ],
   "source": [
    "plt.figure()\n",
    "plt.title(\"Comparison of test predictions for k = 2, k = 21, k = 11 and actual targets (l_2)\")\n",
    "plt.xlabel(\"Input\")\n",
    "plt.ylabel(\"Target (Output)\")\n",
    "plt.plot(x_test, y_test, label='actual')\n",
    "y_predict_k2 = kNN_regress(x_train, y_train, x_test, k=2, l=2)\n",
    "y_predict_k21 = kNN_regress(x_train, y_train, x_test, k=21, l=2)\n",
    "y_predict_k11 = kNN_regress(x_train, y_train, x_test, k=11, l=2)\n",
    "plt.plot(x_test, y_predict_k2, label=\"k=2\")\n",
    "plt.plot(x_test, y_predict_k21, label=\"k=21\")\n",
    "plt.plot(x_test, y_predict_k11, label=\"k=11\")\n",
    "plt.legend(loc='best')\n",
    "\n",
    "plt.figure()\n",
    "plt.title(\"Comparison of training predictions for k = 2, k = 21, k = 11 and actual targets (l_2)\")\n",
    "plt.xlabel(\"Input\")\n",
    "plt.ylabel(\"Target (Output)\")\n",
    "plt.plot(x_train, y_train, label='actual')\n",
    "y_predict_k2 = kNN_regress(x_train, y_train, x_train, k=2, l=2)\n",
    "y_predict_k21 = kNN_regress(x_train, y_train, x_train, k=21, l=2)\n",
    "y_predict_k11 = kNN_regress(x_train, y_train, x_train, k=11, l=2)\n",
    "plt.plot(x_train, y_predict_k2, label=\"k=2\")\n",
    "plt.plot(x_train, y_predict_k21, label=\"k=21\")\n",
    "plt.plot(x_train, y_predict_k11, label=\"k=11\")\n",
    "plt.legend(loc='best')"
   ]
  },
  {
   "cell_type": "markdown",
   "id": "f1d1a1e3",
   "metadata": {},
   "source": [
    "Run rosenbrock dataset:"
   ]
  },
  {
   "cell_type": "code",
   "execution_count": 13,
   "id": "f3162398",
   "metadata": {
    "scrolled": true
   },
   "outputs": [
    {
     "name": "stdout",
     "output_type": "stream",
     "text": [
      "Running...\n",
      "Estimating running time...\n",
      "Estimated running time: 44.55s\n",
      "Beginning parameter tuning...\n",
      "k=1\n",
      "\tl=1, RMSE=0.326855\n",
      "\tl=2, RMSE=0.301277\n",
      "k=2\n",
      "\tl=1, RMSE=0.319316\n",
      "\tl=2, RMSE=0.30767\n",
      "k=3\n",
      "\tl=1, RMSE=0.351289\n",
      "\tl=2, RMSE=0.334344\n",
      "k=4\n",
      "\tl=1, RMSE=0.359456\n",
      "\tl=2, RMSE=0.351382\n",
      "k=5\n",
      "\tl=1, RMSE=0.348843\n",
      "\tl=2, RMSE=0.334836\n",
      "k=6\n",
      "\tl=1, RMSE=0.383802\n",
      "\tl=2, RMSE=0.363431\n",
      "k=7\n",
      "\tl=1, RMSE=0.374259\n",
      "\tl=2, RMSE=0.365067\n",
      "k=8\n",
      "\tl=1, RMSE=0.398362\n",
      "\tl=2, RMSE=0.379211\n",
      "k=9\n",
      "\tl=1, RMSE=0.405517\n",
      "\tl=2, RMSE=0.402097\n",
      "k=10\n",
      "\tl=1, RMSE=0.401618\n",
      "\tl=2, RMSE=0.401484\n",
      "k=11\n",
      "\tl=1, RMSE=0.408879\n",
      "\tl=2, RMSE=0.406027\n",
      "k=12\n",
      "\tl=1, RMSE=0.424634\n",
      "\tl=2, RMSE=0.414741\n",
      "k=13\n",
      "\tl=1, RMSE=0.433799\n",
      "\tl=2, RMSE=0.430128\n",
      "k=14\n",
      "\tl=1, RMSE=0.457659\n",
      "\tl=2, RMSE=0.454055\n",
      "k=15\n",
      "\tl=1, RMSE=0.463465\n",
      "\tl=2, RMSE=0.454897\n",
      "k=16\n",
      "\tl=1, RMSE=0.450522\n",
      "\tl=2, RMSE=0.448022\n",
      "k=17\n",
      "\tl=1, RMSE=0.491966\n",
      "\tl=2, RMSE=0.486698\n",
      "k=18\n",
      "\tl=1, RMSE=0.479521\n",
      "\tl=2, RMSE=0.471565\n",
      "k=19\n",
      "\tl=1, RMSE=0.474364\n",
      "\tl=2, RMSE=0.468717\n",
      "k=20\n",
      "\tl=1, RMSE=0.504001\n",
      "\tl=2, RMSE=0.49971\n",
      "k=21\n",
      "\tl=1, RMSE=0.51628\n",
      "\tl=2, RMSE=0.513893\n",
      "k=22\n",
      "\tl=1, RMSE=0.497994\n",
      "\tl=2, RMSE=0.485068\n",
      "k=23\n",
      "\tl=1, RMSE=0.522617\n",
      "\tl=2, RMSE=0.513735\n",
      "k=24\n",
      "\tl=1, RMSE=0.49198\n",
      "\tl=2, RMSE=0.484875\n",
      "k=25\n",
      "\tl=1, RMSE=0.518278\n",
      "\tl=2, RMSE=0.5142\n",
      "k=26\n",
      "\tl=1, RMSE=0.500373\n",
      "\tl=2, RMSE=0.496681\n",
      "k=27\n",
      "\tl=1, RMSE=0.537942\n",
      "\tl=2, RMSE=0.531778\n",
      "k=28\n",
      "\tl=1, RMSE=0.519133\n",
      "\tl=2, RMSE=0.512482\n",
      "k=29\n",
      "\tl=1, RMSE=0.559918\n",
      "\tl=2, RMSE=0.55399\n",
      "k=30\n",
      "\tl=1, RMSE=0.549496\n",
      "\tl=2, RMSE=0.547792\n",
      "k=31\n",
      "\tl=1, RMSE=0.554035\n",
      "\tl=2, RMSE=0.544015\n",
      "k=32\n",
      "\tl=1, RMSE=0.575351\n",
      "\tl=2, RMSE=0.566414\n",
      "k=33\n",
      "\tl=1, RMSE=0.567996\n",
      "\tl=2, RMSE=0.558206\n",
      "k=34\n",
      "\tl=1, RMSE=0.565968\n",
      "\tl=2, RMSE=0.557891\n",
      "k=35\n",
      "\tl=1, RMSE=0.541088\n",
      "\tl=2, RMSE=0.53082\n",
      "k=36\n",
      "\tl=1, RMSE=0.575673\n",
      "\tl=2, RMSE=0.567063\n",
      "k=37\n",
      "\tl=1, RMSE=0.574955\n",
      "\tl=2, RMSE=0.568794\n",
      "k=38\n",
      "\tl=1, RMSE=0.603023\n",
      "\tl=2, RMSE=0.592859\n",
      "k=39\n",
      "\tl=1, RMSE=0.594887\n",
      "\tl=2, RMSE=0.585404\n",
      "k=40\n",
      "\tl=1, RMSE=0.606992\n",
      "\tl=2, RMSE=0.598567\n",
      "k=41\n",
      "\tl=1, RMSE=0.611619\n",
      "\tl=2, RMSE=0.602925\n",
      "k=42\n",
      "\tl=1, RMSE=0.585211\n",
      "\tl=2, RMSE=0.579977\n",
      "k=43\n",
      "\tl=1, RMSE=0.607001\n",
      "\tl=2, RMSE=0.598208\n",
      "k=44\n",
      "\tl=1, RMSE=0.610016\n",
      "\tl=2, RMSE=0.604197\n",
      "Best: k=1, l=2; with min avg RMSE=0.301277\n",
      "took 44.64s\n",
      "RMSE of model on test data for k=1 and l=2: 0.2378680677645984\n"
     ]
    }
   ],
   "source": [
    "x_train, x_valid, x_test, y_train, y_valid, y_test = load_dataset('rosenbrock', n_train=1000, d=2)\n",
    "x_train = np.vstack([x_valid, x_train])\n",
    "y_train = np.vstack([y_valid, y_train])\n",
    "\n",
    "RMSE_avg, best_k, best_l = estimate_best_param(x_train, y_train, v=5, max_l=2)\n",
    "RMSE_test = test_model_RMSE(x_train, y_train, x_test, y_test, best_k, best_l)\n",
    "print(\"RMSE of model on test data for k={k} and l={l}: {RMSE_test}\".format(k=best_k, l=best_l, RMSE_test=RMSE_test))"
   ]
  },
  {
   "cell_type": "markdown",
   "id": "7ecefe57",
   "metadata": {},
   "source": [
    "Run pumadyn32nm dataset:"
   ]
  },
  {
   "cell_type": "code",
   "execution_count": null,
   "id": "a17ddc42",
   "metadata": {
    "scrolled": true
   },
   "outputs": [
    {
     "name": "stdout",
     "output_type": "stream",
     "text": [
      "Running...\n",
      "Estimating running time...\n",
      "Estimated running time: 7985.68s\n",
      "Beginning parameter tuning...\n",
      "k=1\n",
      "\tl=1, RMSE=1.218242\n",
      "\tl=2, RMSE=1.224889\n",
      "k=2\n",
      "\tl=1, RMSE=1.037788\n",
      "\tl=2, RMSE=1.054881\n",
      "k=3\n",
      "\tl=1, RMSE=0.963898\n",
      "\tl=2, RMSE=0.992524\n",
      "k=4\n",
      "\tl=1, RMSE=0.933506\n",
      "\tl=2, RMSE=0.957791\n",
      "k=5\n",
      "\tl=1, RMSE=0.917536\n",
      "\tl=2, RMSE=0.941555\n",
      "k=6\n",
      "\tl=1, RMSE=0.904973\n",
      "\tl=2, RMSE=0.931793\n",
      "k=7\n",
      "\tl=1, RMSE=0.899552\n",
      "\tl=2, RMSE=0.919165\n",
      "k=8\n",
      "\tl=1, RMSE=0.889108\n",
      "\tl=2, RMSE=0.90997\n",
      "k=9\n",
      "\tl=1, RMSE=0.893637\n",
      "\tl=2, RMSE=0.91151\n",
      "k=10\n",
      "\tl=1, RMSE=0.889234\n",
      "\tl=2, RMSE=0.905071\n",
      "k=11\n",
      "\tl=1, RMSE=0.883695\n",
      "\tl=2, RMSE=0.903459\n",
      "k=12\n",
      "\tl=1, RMSE=0.880946\n",
      "\tl=2, RMSE=0.9005\n",
      "k=13\n",
      "\tl=1, RMSE=0.880676\n",
      "\tl=2, RMSE=0.898079\n",
      "k=14\n",
      "\tl=1, RMSE=0.876691\n",
      "\tl=2, RMSE=0.897697\n",
      "k=15\n",
      "\tl=1, RMSE=0.877421\n",
      "\tl=2, RMSE=0.897924\n",
      "k=16\n",
      "\tl=1, RMSE=0.87646\n",
      "\tl=2, RMSE=0.896229\n",
      "k=17\n",
      "\tl=1, RMSE=0.874139\n",
      "\tl=2, RMSE=0.896583\n",
      "k=18\n",
      "\tl=1, RMSE=0.872199\n",
      "\tl=2, RMSE=0.895272\n",
      "k=19\n",
      "\tl=1, RMSE=0.872337\n",
      "\tl=2, RMSE=0.894464\n",
      "k=20\n",
      "\tl=1, RMSE=0.871352\n",
      "\tl=2, RMSE=0.895157\n",
      "k=21\n",
      "\tl=1, RMSE=0.873916\n",
      "\tl=2, RMSE=0.895897\n",
      "k=22\n",
      "\tl=1, RMSE=0.872445\n",
      "\tl=2, RMSE=0.894315\n",
      "k=23\n",
      "\tl=1, RMSE=0.870264\n",
      "\tl=2, RMSE=0.891918\n"
     ]
    }
   ],
   "source": [
    "x_train, x_valid, x_test, y_train, y_valid, y_test = load_dataset('pumadyn32nm')\n",
    "x_train = np.vstack([x_valid, x_train])\n",
    "y_train = np.vstack([y_valid, y_train])\n",
    "\n",
    "RMSE_avg, best_k, best_l = estimate_best_param(x_train, y_train, v=5, max_l=2)\n",
    "RMSE_test = test_model_RMSE(x_train, y_train, x_test, y_test, best_k, best_l)\n",
    "print(\"RMSE of model on test data for k={k} and l={l}: {RMSE_test}\".format(k=best_k, l=best_l, RMSE_test=RMSE_test))"
   ]
  }
 ],
 "metadata": {
  "kernelspec": {
   "display_name": "Python 3",
   "language": "python",
   "name": "python3"
  },
  "language_info": {
   "codemirror_mode": {
    "name": "ipython",
    "version": 3
   },
   "file_extension": ".py",
   "mimetype": "text/x-python",
   "name": "python",
   "nbconvert_exporter": "python",
   "pygments_lexer": "ipython3",
   "version": "3.8.8"
  }
 },
 "nbformat": 4,
 "nbformat_minor": 5
}
