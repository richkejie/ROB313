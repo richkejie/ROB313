{
 "cells": [
  {
   "cell_type": "code",
   "execution_count": 1,
   "id": "afd95104",
   "metadata": {},
   "outputs": [],
   "source": [
    "import numpy as np\n",
    "import matplotlib.pyplot as plt\n",
    "import time\n",
    "from data_utils import load_dataset"
   ]
  },
  {
   "cell_type": "code",
   "execution_count": 2,
   "id": "78bfbd9e",
   "metadata": {},
   "outputs": [],
   "source": [
    "def lin_regress_SVD(x_train, y_train, x_test):\n",
    "    \n",
    "    # x_train is an (N,D) array\n",
    "    # N training points, D features\n",
    "    # y_train is an (N,1) array for regression and (N,y) for classification\n",
    "    # assume classification datasets converted to number classes\n",
    "    \n",
    "    # add dummy feature (for bias/offset term)\n",
    "    # change x_train to (N,D+1) array; x_test to (n,D+1) array\n",
    "    # n is number of test points\n",
    "    \n",
    "    temp = np.ones((x_train.shape[0], 1))\n",
    "    x_train = np.hstack((temp, x_train))\n",
    "    temp = np.ones((x_test.shape[0], 1))\n",
    "    x_test = np.hstack((temp, x_test))\n",
    "    \n",
    "    # compute SVD\n",
    "    U, sigma, V_t = np.linalg.svd(x_train, full_matrices=False, compute_uv=True, hermitian=False)\n",
    "    # U is (N,D+1); sigma is (D+1,) array of the singular values; because full_matrics=False\n",
    "    # V_t is (D+1,D+1)\n",
    "    \n",
    "    # compute weights with numpy multidot\n",
    "    # using formula derived in lecture\n",
    "    w = np.linalg.multi_dot([V_t.T,np.linalg.inv(np.diag(sigma)),U.T,y_train])\n",
    "    \n",
    "    # compute prediction\n",
    "    y_predict = np.dot(x_test,w)\n",
    "    \n",
    "    return y_predict"
   ]
  },
  {
   "cell_type": "code",
   "execution_count": 3,
   "id": "901d8414",
   "metadata": {},
   "outputs": [],
   "source": [
    "np.random.seed(100)"
   ]
  },
  {
   "cell_type": "markdown",
   "id": "cf819266",
   "metadata": {},
   "source": [
    "Run on regression datasets:"
   ]
  },
  {
   "cell_type": "code",
   "execution_count": 4,
   "id": "f9be78b6",
   "metadata": {},
   "outputs": [
    {
     "name": "stdout",
     "output_type": "stream",
     "text": [
      "RMSE = 0.349388\n"
     ]
    }
   ],
   "source": [
    "# mauna_loa dataset\n",
    "x_train, x_valid, x_test, y_train, y_valid, y_test = load_dataset('mauna_loa')\n",
    "# use both training and validation sets for train\n",
    "x_train = np.vstack([x_valid, x_train])\n",
    "y_train = np.vstack([y_valid, y_train])\n",
    "\n",
    "y_predict = lin_regress_SVD(x_train, y_train, x_test)\n",
    "RMSE = np.sqrt(np.mean(np.square(y_test-y_predict)))\n",
    "print(\"RMSE = {}\".format(round(RMSE,6)))"
   ]
  },
  {
   "cell_type": "code",
   "execution_count": 5,
   "id": "4c457aba",
   "metadata": {},
   "outputs": [
    {
     "name": "stdout",
     "output_type": "stream",
     "text": [
      "RMSE = 0.984087\n"
     ]
    }
   ],
   "source": [
    "# rosenbrock dataset\n",
    "x_train, x_valid, x_test, y_train, y_valid, y_test = load_dataset('rosenbrock', n_train=1000, d=2)\n",
    "# use both training and validation sets for train\n",
    "x_train = np.vstack([x_valid, x_train])\n",
    "y_train = np.vstack([y_valid, y_train])\n",
    "\n",
    "y_predict = lin_regress_SVD(x_train, y_train, x_test)\n",
    "RMSE = np.sqrt(np.mean(np.square(y_test-y_predict)))\n",
    "print(\"RMSE = {}\".format(round(RMSE,6)))"
   ]
  },
  {
   "cell_type": "code",
   "execution_count": 6,
   "id": "94b87dcf",
   "metadata": {
    "scrolled": true
   },
   "outputs": [
    {
     "name": "stdout",
     "output_type": "stream",
     "text": [
      "RMSE = 0.862251\n"
     ]
    }
   ],
   "source": [
    "# pumadyn32nm dataset\n",
    "x_train, x_valid, x_test, y_train, y_valid, y_test = load_dataset('pumadyn32nm')\n",
    "# use both training and validation sets for train\n",
    "x_train = np.vstack([x_valid, x_train])\n",
    "y_train = np.vstack([y_valid, y_train])\n",
    "\n",
    "y_predict = lin_regress_SVD(x_train, y_train, x_test)\n",
    "RMSE = np.sqrt(np.mean(np.square(y_test-y_predict)))\n",
    "print(\"RMSE = {}\".format(round(RMSE,6)))"
   ]
  },
  {
   "cell_type": "markdown",
   "id": "026f33e8",
   "metadata": {},
   "source": [
    "Ru|n on classification datasets:"
   ]
  },
  {
   "cell_type": "code",
   "execution_count": 7,
   "id": "321df9ea",
   "metadata": {},
   "outputs": [
    {
     "name": "stdout",
     "output_type": "stream",
     "text": [
      "Accuracy = 0.866667\n"
     ]
    }
   ],
   "source": [
    "# iris dataset\n",
    "x_train, x_valid, x_test, y_train, y_valid, y_test = load_dataset('iris')\n",
    "# use both training and validation sets for train\n",
    "x_train = np.vstack([x_valid, x_train])\n",
    "y_train = np.vstack([y_valid, y_train])\n",
    "\n",
    "y_predict = lin_regress_SVD(x_train, y_train, x_test)\n",
    "\n",
    "# take argmax of y_predict_i to be its predicted class\n",
    "y_predict = np.argmax(y_predict, axis=1).reshape((y_predict.shape[0],-1))\n",
    "# convert one-hot encoding to numbers for the classes (for y_test)\n",
    "y_test = np.argmax(y_test, axis=1).reshape((y_test.shape[0],-1))\n",
    "\n",
    "acc = np.mean(y_predict == y_test)\n",
    "print(\"Accuracy = {}\".format(round(acc,6)))"
   ]
  },
  {
   "cell_type": "code",
   "execution_count": 8,
   "id": "6629e46c",
   "metadata": {},
   "outputs": [
    {
     "name": "stdout",
     "output_type": "stream",
     "text": [
      "Accuracy = 0.855\n"
     ]
    }
   ],
   "source": [
    "# mnist_small dataset\n",
    "x_train, x_valid, x_test, y_train, y_valid, y_test = load_dataset('mnist_small')\n",
    "# use both training and validation sets for train\n",
    "x_train = np.vstack([x_valid, x_train])\n",
    "y_train = np.vstack([y_valid, y_train])\n",
    "\n",
    "y_predict = lin_regress_SVD(x_train, y_train, x_test)\n",
    "\n",
    "# take argmax of y_predict_i to be its predicted class\n",
    "y_predict = np.argmax(y_predict, axis=1).reshape((y_predict.shape[0],-1))\n",
    "# convert one-hot encoding to numbers for the classes (for y_test)\n",
    "y_test = np.argmax(y_test, axis=1).reshape((y_test.shape[0],-1))\n",
    "\n",
    "acc = np.mean(y_predict == y_test)\n",
    "print(\"Accuracy = {}\".format(round(acc,6)))"
   ]
  }
 ],
 "metadata": {
  "kernelspec": {
   "display_name": "Python 3 (ipykernel)",
   "language": "python",
   "name": "python3"
  },
  "language_info": {
   "codemirror_mode": {
    "name": "ipython",
    "version": 3
   },
   "file_extension": ".py",
   "mimetype": "text/x-python",
   "name": "python",
   "nbconvert_exporter": "python",
   "pygments_lexer": "ipython3",
   "version": "3.11.5"
  }
 },
 "nbformat": 4,
 "nbformat_minor": 5
}
