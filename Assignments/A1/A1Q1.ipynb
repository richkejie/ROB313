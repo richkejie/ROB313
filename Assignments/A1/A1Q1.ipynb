{
 "cells": [
  {
   "cell_type": "code",
   "execution_count": null,
   "id": "d4fab873",
   "metadata": {},
   "outputs": [],
   "source": [
    "import numpy as np\n",
    "import matplotlib as mpl\n",
    "import matplotlib.pyplot as plt\n",
    "import scipy as scp\n",
    "import sklearn.neighbors\n",
    "import time\n",
    "from data_utils import load_dataset\n",
    "\n",
    "# test"
   ]
  },
  {
   "cell_type": "markdown",
   "id": "71d26084",
   "metadata": {},
   "source": [
    "Below are the 3 regression datasets"
   ]
  },
  {
   "cell_type": "code",
   "execution_count": null,
   "id": "eac339ee",
   "metadata": {},
   "outputs": [],
   "source": [
    "x_train, x_valid, x_test, y_train, y_valid, y_test = load_dataset('mauna_loa')"
   ]
  },
  {
   "cell_type": "code",
   "execution_count": null,
   "id": "93bf8159",
   "metadata": {},
   "outputs": [],
   "source": [
    "x_train, x_valid, x_test, y_train, y_valid, y_test = load_dataset('rosenbrock', n_train=1000, d=2)"
   ]
  },
  {
   "cell_type": "code",
   "execution_count": null,
   "id": "383d9778",
   "metadata": {},
   "outputs": [],
   "source": [
    "x_train, x_valid, x_test, y_train, y_valid, y_test = load_dataset('pumadyn32nm')"
   ]
  },
  {
   "cell_type": "markdown",
   "id": "cb63fa57",
   "metadata": {},
   "source": [
    "Below are the 2 classification datasets"
   ]
  },
  {
   "cell_type": "code",
   "execution_count": null,
   "id": "517c385b",
   "metadata": {},
   "outputs": [],
   "source": [
    "x_train, x_valid, x_test, y_train, y_valid, y_test = load_dataset('iris')"
   ]
  },
  {
   "cell_type": "code",
   "execution_count": null,
   "id": "0fca5021",
   "metadata": {},
   "outputs": [],
   "source": [
    "x_train, x_valid, x_test, y_train, y_valid, y_test = load_dataset('mnist_small')"
   ]
  },
  {
   "cell_type": "markdown",
   "id": "7b8e2121",
   "metadata": {},
   "source": [
    "Below is me understanding how the datasets work..."
   ]
  },
  {
   "cell_type": "code",
   "execution_count": null,
   "id": "bb161e2f",
   "metadata": {},
   "outputs": [],
   "source": [
    "print(\"x_test shape: {}\\n\".format(x_test.shape))\n",
    "print(x_test)"
   ]
  },
  {
   "cell_type": "code",
   "execution_count": null,
   "id": "d7f2a897",
   "metadata": {},
   "outputs": [],
   "source": [
    "print(\"y_test shape: {}\\n\".format(y_test.shape))\n",
    "print(y_test)"
   ]
  },
  {
   "cell_type": "code",
   "execution_count": null,
   "id": "3e870d49",
   "metadata": {
    "scrolled": true
   },
   "outputs": [],
   "source": [
    "x = x_test[0]\n",
    "a = np.abs(x_train-x)\n",
    "s = np.sum(a,axis=1).reshape((a.shape[0],-1))\n",
    "partition = np.argpartition(s,kth=3,axis=0)\n",
    "kNN = partition[:3]\n",
    "\n",
    "print(\"x_train shape: {}\".format(x_train.shape))\n",
    "print(\"x_test point shape: {}\".format(x.shape))\n",
    "print(\"abs diff shape: {}\".format(a.shape))\n",
    "print(\"sum shape: {}\\n\".format(s.shape))\n",
    "\n",
    "print(\"x_train:\\n\",x_train)\n",
    "print(\"x_test point:\",x)\n",
    "print(\"abs diff:\\n\",a)\n",
    "print(\"sum:\\n\",s)\n",
    "print(\"3 kNN indices:\\n\",kNN)\n",
    "print(\"3 kNN values:\\n\", s[kNN,0])"
   ]
  },
  {
   "cell_type": "code",
   "execution_count": null,
   "id": "96176d8c",
   "metadata": {},
   "outputs": [],
   "source": [
    "x = x_test[0].reshape((1,-1))\n",
    "a = np.abs(x_train-x)\n",
    "s = np.sum(a,axis=1).reshape((a.shape[0],-1))\n",
    "partition = np.argpartition(s,kth=3,axis=0)\n",
    "kNN = partition[:3]\n",
    "\n",
    "print(\"x_train shape: {}\".format(x_train.shape))\n",
    "print(\"x_test point shape: {}\".format(x.shape))\n",
    "print(\"abs diff shape: {}\".format(a.shape))\n",
    "print(\"sum shape: {}\\n\".format(s.shape))\n",
    "\n",
    "print(\"x_train:\\n\",x_train)\n",
    "print(\"x_test point:\",x)\n",
    "print(\"abs diff:\\n\",a)\n",
    "print(\"sum:\\n\",s)\n",
    "print(\"3 kNN indices:\\n\",kNN)\n",
    "print(\"3 kNN values:\\n\", s[kNN,0])"
   ]
  },
  {
   "cell_type": "markdown",
   "id": "6097e696",
   "metadata": {},
   "source": [
    "Below is an implementation of the kNN algorithm for regression."
   ]
  },
  {
   "cell_type": "code",
   "execution_count": null,
   "id": "760c5b89",
   "metadata": {},
   "outputs": [],
   "source": [
    "# first, implement distance metric as separate function\n",
    "def minkowski_dists(x_train, x_test_i, l=2):\n",
    "    \n",
    "    \"\"\"\n",
    "    Returns Minkowski distance between each element\n",
    "    of x_train and x_test_i as a (D,1) np array\n",
    "    \n",
    "    x_train is a (D,n) array\n",
    "    x_test_i is a (n,) array\n",
    "    \n",
    "    dists is a (D,1) array\n",
    "    \"\"\"\n",
    "    \n",
    "    p = l\n",
    "    x_test_i = x_test_i.reshape((1,-1)) # converts x_test_i to a (1,n) array\n",
    "    # not necessary... will still work w/out this b/c broadcasting\n",
    "    diff = np.abs(x_train-x_test_i)\n",
    "    power = np.power(diff,p)\n",
    "    sigma = np.sum(power,axis=1).reshape((x_train.shape[0],-1)) # axis = 1 --> sum along rows\n",
    "    dists = np.power(sigma,1/p)\n",
    "    return dists\n",
    "    "
   ]
  },
  {
   "cell_type": "code",
   "execution_count": null,
   "id": "3176a08e",
   "metadata": {},
   "outputs": [],
   "source": [
    "def kNN_regress(x_train, y_train, x_test, k=1, l=2):\n",
    "    \n",
    "    \"\"\"\n",
    "    Returns y_test results corresponding to x_test inputs using kNN algorithm\n",
    "    \n",
    "    x_train is a (D,n) array\n",
    "    y_train is a (D,1) array (regression: single output)\n",
    "    x_test is a (T,n) array\n",
    "    \n",
    "    y_test is a (T,1) array (regression: single output)\n",
    "    \"\"\"\n",
    "    \n",
    "    num_test_points = x_test.shape[0]\n",
    "    y_test = np.empty((num_test_points,1),)\n",
    "    \n",
    "    # compute distances (for each test point)\n",
    "    # assume distance metric is the Minkowski distance\n",
    "    for i, x_test_i in enumerate(x_test):\n",
    "        dists = minkowski_dists(x_train, x_test_i,l)\n",
    "        partition = np.argpartition(dists,kth=k,axis=0) # returns indices of dists\n",
    "                                                        # axis = 0 --> partition along column\n",
    "        kNN = partition[:k]\n",
    "        y_test[i,0] = np.average(y_train[kNN,0])\n",
    "    \n",
    "    return y_test\n",
    "    "
   ]
  },
  {
   "cell_type": "markdown",
   "id": "71d06bbe",
   "metadata": {},
   "source": [
    "Testing regression algorithm:"
   ]
  },
  {
   "cell_type": "code",
   "execution_count": null,
   "id": "8bcd8e96",
   "metadata": {},
   "outputs": [],
   "source": [
    "print(x_train.shape)\n",
    "print(x_train)"
   ]
  },
  {
   "cell_type": "code",
   "execution_count": null,
   "id": "6995c2d9",
   "metadata": {},
   "outputs": [],
   "source": [
    "print(x_test[0])"
   ]
  },
  {
   "cell_type": "code",
   "execution_count": null,
   "id": "124cd274",
   "metadata": {},
   "outputs": [],
   "source": [
    "# test minkowski function\n",
    "x_test_i = x_test[0]\n",
    "dists_one = minkowski_dists(x_train,x_test_i,l=1)\n",
    "dists_two = minkowski_dists(x_train,x_test_i,l=2)\n",
    "print(dists_one.shape)\n",
    "print(dists_two.shape)\n",
    "print(\"l=1:\",dists_one)\n",
    "print(\"l=2:\",dists_two)\n",
    "print(dists_one - dists_two)"
   ]
  },
  {
   "cell_type": "code",
   "execution_count": null,
   "id": "f7a24748",
   "metadata": {},
   "outputs": [],
   "source": [
    "# test kNN function\n",
    "k = 3\n",
    "y_test_one = kNN_regress(x_train, y_train, x_test, k, l=1)\n",
    "y_test_two = kNN_regress(x_train, y_train, x_test, k, l=2)\n",
    "\n",
    "print(y_test_one)\n",
    "print(\"\\n\\n\\n\")\n",
    "print(y_test_two)\n",
    "print(\"\\n\\n\\n\")\n",
    "print(y_test_one - y_test_two)"
   ]
  },
  {
   "cell_type": "markdown",
   "id": "b9a9967b",
   "metadata": {},
   "source": [
    "Implementation of v-fold cross-validation with v = 5:"
   ]
  },
  {
   "cell_type": "code",
   "execution_count": null,
   "id": "1a37951a",
   "metadata": {},
   "outputs": [],
   "source": [
    "def v_fold_cross_validation_RMSE(x_train, y_train, N, k=1, max_l=2, v=5, testing=False):\n",
    "    \n",
    "    \"\"\"\n",
    "    Conducts cross validation on x_train and y_train with v folds\n",
    "    \n",
    "    x_train and y_train are (N,n) arrays\n",
    "    trains using kNN validation with k\n",
    "    repeats model with different minkowski distance metric with p up to max_l\n",
    "    \n",
    "    Returns the average RMSE across the folds and for each p up to max_l\n",
    "    RMSE_avg is a (1,max_l) array\n",
    "    \"\"\"\n",
    "    \n",
    "    # divide data into v equal folds\n",
    "    # split data into folds (by index)\n",
    "    idx = np.arange(N,dtype=int)\n",
    "    if (N%v != 0):\n",
    "        # as N is not be a perfect multiple of v, add in 'fake' numbers that will be cleaned later\n",
    "        extra = np.random.choice(idx, size=N%v, replace=False)\n",
    "        idx = np.delete(idx,extra)\n",
    "        idx = np.random.permutation(idx).reshape((v,-1))\n",
    "        temp = -1 * np.ones(idx.shape[0], dtype=int)\n",
    "        temp[:extra.shape[0]] = extra\n",
    "        temp = temp.reshape(idx.shape[0],1)\n",
    "        idx = np.hstack((idx,temp))\n",
    "    else:\n",
    "        idx = np.random.permutation(idx).reshape((v,-1))\n",
    "    \n",
    "    RMSE = np.empty((v,max_l))\n",
    "    \n",
    "    # train and test for each fold\n",
    "    for i in range(v):\n",
    "        ith_fold_idx = idx[i]\n",
    "        ith_fold_idx = [i for i in ith_fold_idx if i>=0]\n",
    "        training_idx = np.delete(idx, i, axis=0)\n",
    "        training_idx = training_idx.reshape(-1) # flatten the array\n",
    "        training_idx = [i for i in training_idx if i>=0]\n",
    "        \n",
    "        x_tr, y_tr = x_train[training_idx], y_train[training_idx]\n",
    "        x_val, y_val = x_train[ith_fold_idx], y_train[ith_fold_idx]\n",
    "        \n",
    "        for l in range(1,max_l+1,1):\n",
    "            y_test = kNN_regress(x_tr, y_tr, x_val, k=k, l=l)\n",
    "            RMSE[i,l-1] = np.sqrt(np.mean(np.square(y_val-y_test)))\n",
    "        \n",
    "    RMSE_avg = np.average(RMSE, axis=0)\n",
    "    \n",
    "    if not testing:\n",
    "        print(\"k={a}, l={b}, RMSE={e_avg}\".format(a=k, b=1, e_avg=round(RMSE_avg[0], 6)))\n",
    "        print(\"k={a}, l={b}, RMSE={e_avg}\".format(a=k, b=2, e_avg=round(RMSE_avg[1], 6)))\n",
    "    \n",
    "    return RMSE_avg \n",
    "\n",
    "def estimate_best_param(x_train, y_train, v=5, max_l=2):\n",
    "    \n",
    "    \"\"\"\n",
    "    Estimates the best k and l values for optimal model results (i.e., tunes the model parameters)\n",
    "    Uses cross validation with v folds for tuning\n",
    "    Repeats training with different minkowski distance metric with p up to max_l\n",
    "    \n",
    "    x_train and y_train are (N,n) arrays\n",
    "    \n",
    "    Returns average RMSE across folds for each k up to sqrt(N) and for each p up to max_l\n",
    "    RMSE_avg is (sqrt(N),max_l) array\n",
    "    Returns best_k and best_l --> ints\n",
    "    \"\"\"\n",
    "    \n",
    "    # assume training data includes both training and validation sets\n",
    "    t0 = time.time()\n",
    "    print(\"Running...\")\n",
    "    \n",
    "    N = x_train.shape[0] # number of training points\n",
    "    k_max = int(np.sqrt(N)) # rule of thumb: k < sqrt(N)\n",
    "    RMSE_avg = np.empty((k_max,max_l)) # RMSE_avg[k][l] stores the average RMSE value for k, l distance metric\n",
    "    \n",
    "    # timing estimate\n",
    "    t0 = time.time()\n",
    "    print(\"Estimating running time...\")\n",
    "    v_fold_cross_validation_RMSE(x_train, y_train, N=N, k=k_max//2, max_l=max_l, v=v, testing=True)\n",
    "    print(\"Estimated running time: {}s\".format(round((time.time()-t0)*k_max,2)))\n",
    "    \n",
    "    # start parameter tuning\n",
    "    t0 = time.time()\n",
    "    print(\"Beginning parameter tuning...\")\n",
    "    \n",
    "    for k in range(1, k_max+1, 1):\n",
    "        RMSE_avg[k-1] = v_fold_cross_validation_RMSE(x_train, y_train, N=N, k=k, max_l=max_l, v=v)\n",
    "    \n",
    "    best_k, best_l = np.unravel_index(np.argmin(RMSE_avg), RMSE_avg.shape)\n",
    "    best_k += 1\n",
    "    best_l += 1\n",
    "    print(\"Best: k={}, l={}; with min avg RMSE={}\".format(best_k, best_l, round(RMSE_avg[best_k-1,best_l-1],6)))\n",
    "    print(\"took {}s\".format(round(time.time()-t0,2)))\n",
    "    return RMSE_avg, best_k, best_l"
   ]
  },
  {
   "cell_type": "code",
   "execution_count": null,
   "id": "f5e51942",
   "metadata": {},
   "outputs": [],
   "source": [
    "x_train, x_valid, x_test, y_train, y_valid, y_test = load_dataset('pumadyn32nm')\n",
    "x_train = np.vstack([x_valid, x_train])\n",
    "y_train = np.vstack([y_valid, y_train])\n",
    "\n",
    "RMSE_avg, best_k, best_l = estimate_best_param(x_train, y_train, v=5, max_l=2)"
   ]
  },
  {
   "cell_type": "code",
   "execution_count": null,
   "id": "75af4fe0",
   "metadata": {},
   "outputs": [],
   "source": [
    "R = np.ones((4,5,2),dtype=int) # (4,5,2) array\n",
    "print(R)\n",
    "print(R[0].shape) # (5,2) array"
   ]
  },
  {
   "cell_type": "code",
   "execution_count": null,
   "id": "5c7a5614",
   "metadata": {},
   "outputs": [],
   "source": [
    "for i in range(0,8,2):\n",
    "    print(i)"
   ]
  },
  {
   "cell_type": "code",
   "execution_count": null,
   "id": "4bc9208d",
   "metadata": {},
   "outputs": [],
   "source": [
    "e = np.empty((int(np.sqrt(26)),2))\n",
    "print(e)\n",
    "print(e.shape)"
   ]
  },
  {
   "cell_type": "code",
   "execution_count": null,
   "id": "425cf8a9",
   "metadata": {},
   "outputs": [],
   "source": [
    "type(x_train.shape[0])"
   ]
  },
  {
   "cell_type": "code",
   "execution_count": null,
   "id": "1fedbb90",
   "metadata": {},
   "outputs": [],
   "source": [
    "a = -1*np.ones(7+5-7%5, dtype=int)\n",
    "print(a.shape)\n",
    "print(a)\n",
    "\n",
    "a[:7] = np.arange(7,dtype=int)\n",
    "print(a)\n",
    "a = np.random.permutation(a)\n",
    "print(a)\n",
    "a = a.reshape((5,-1))\n",
    "print(a)"
   ]
  },
  {
   "cell_type": "code",
   "execution_count": null,
   "id": "476b2aee",
   "metadata": {},
   "outputs": [],
   "source": [
    "i = 1\n",
    "v = a[i]\n",
    "# v = a[i,a[i]>=0]\n",
    "print(v)\n",
    "v = [i for i in v if i>=0]\n",
    "print(v)"
   ]
  },
  {
   "cell_type": "code",
   "execution_count": null,
   "id": "65a70789",
   "metadata": {},
   "outputs": [],
   "source": [
    "t_ = np.delete(a,i,axis=0)\n",
    "print(t_)\n",
    "\n",
    "t = np.delete(a,i,axis=0).reshape(-1) # flattens the array\n",
    "print(t)"
   ]
  },
  {
   "cell_type": "code",
   "execution_count": null,
   "id": "ad94c79c",
   "metadata": {},
   "outputs": [],
   "source": [
    "t_ = t_[t_>=0]\n",
    "print(t_)\n",
    "\n",
    "t = t[t>=0]\n",
    "print(t)"
   ]
  },
  {
   "cell_type": "code",
   "execution_count": null,
   "id": "c9f39596",
   "metadata": {},
   "outputs": [],
   "source": [
    "data = np.arange(6).reshape((3, 2))\n",
    "print(data)"
   ]
  },
  {
   "cell_type": "code",
   "execution_count": null,
   "id": "30b774b2",
   "metadata": {},
   "outputs": [],
   "source": [
    "print(np.average(data,axis=0))"
   ]
  },
  {
   "cell_type": "code",
   "execution_count": null,
   "id": "830b400d",
   "metadata": {},
   "outputs": [],
   "source": [
    "N = 12\n",
    "v = 5\n",
    "idx = np.arange(N,dtype=int)\n",
    "print(idx)\n",
    "if (N%v != 0):\n",
    "    extra = np.random.choice(idx, size=N%v, replace=False)\n",
    "    print(extra)\n",
    "    idx = np.delete(idx,extra)\n",
    "    idx = np.random.permutation(idx).reshape((v,-1))\n",
    "    print(idx)\n",
    "    temp = -1 * np.ones(idx.shape[0], dtype=int)\n",
    "    temp[:extra.shape[0]] = extra\n",
    "    temp = temp.reshape(idx.shape[0],1)\n",
    "    print(temp)\n",
    "    idx = np.hstack((idx,temp))\n",
    "    print(idx)"
   ]
  },
  {
   "cell_type": "code",
   "execution_count": null,
   "id": "3302c059",
   "metadata": {},
   "outputs": [],
   "source": []
  }
 ],
 "metadata": {
  "kernelspec": {
   "display_name": "Python 3",
   "language": "python",
   "name": "python3"
  },
  "language_info": {
   "codemirror_mode": {
    "name": "ipython",
    "version": 3
   },
   "file_extension": ".py",
   "mimetype": "text/x-python",
   "name": "python",
   "nbconvert_exporter": "python",
   "pygments_lexer": "ipython3",
   "version": "3.8.8"
  }
 },
 "nbformat": 4,
 "nbformat_minor": 5
}
