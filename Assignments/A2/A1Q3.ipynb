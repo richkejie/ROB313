{
 "cells": [
  {
   "cell_type": "code",
   "execution_count": 1,
   "id": "720d56ee",
   "metadata": {},
   "outputs": [],
   "source": [
    "import numpy as np\n",
    "import time\n",
    "from data_utils import load_dataset"
   ]
  },
  {
   "cell_type": "code",
   "execution_count": 2,
   "id": "6758c2d3",
   "metadata": {},
   "outputs": [],
   "source": [
    "np.random.seed(100)"
   ]
  },
  {
   "cell_type": "markdown",
   "id": "2cef19fc",
   "metadata": {},
   "source": [
    "Below is an implementation of a Gaussian kernel radial basis function (RBF) model. The model uses Cholesky factorization; it takes in hyperparameters theta and lambda."
   ]
  },
  {
   "cell_type": "code",
   "execution_count": 3,
   "id": "ee21d254",
   "metadata": {},
   "outputs": [],
   "source": [
    "def RBF_Gaussian_kernel(x_train, y_train, x_test, thet, lamb):\n",
    "    \n",
    "    x_train_i = np.expand_dims(x_train, axis=1)\n",
    "    x_train_j = np.expand_dims(x_train, axis=0)\n",
    "    \n",
    "    K = np.exp(-np.sum(np.square(x_train_i-x_train_j)/thet,axis=2))\n",
    "    \n",
    "    R = np.linalg.cholesky(K + lamb*np.identity(x_train.shape[0])).T\n",
    "    \n",
    "    alpha = np.linalg.multi_dot([np.linalg.inv(R), np.linalg.inv(R).T, y_train])\n",
    "    \n",
    "    x_test_i = np.expand_dims(x_test, axis=1)\n",
    "    \n",
    "    K_test = np.exp(-np.sum(np.square(x_test_i-x_train_j)/thet,axis=2))\n",
    "    y_predict = K_test.dot(alpha)\n",
    "    \n",
    "    return y_predict"
   ]
  },
  {
   "cell_type": "code",
   "execution_count": 7,
   "id": "63f7afbd",
   "metadata": {},
   "outputs": [],
   "source": [
    "# These are the hyperparameter values that will be tested\n",
    "thetas = [0.05, 0.1, 0.5, 1, 2]\n",
    "lambdas = [0.001, 0.01, 0.1, 1]"
   ]
  },
  {
   "cell_type": "code",
   "execution_count": 8,
   "id": "810a0000",
   "metadata": {},
   "outputs": [],
   "source": [
    "def validation_RMSE(x_train, y_train, x_valid, y_valid, thet, lamb, testing_runtime=False):\n",
    "    \n",
    "    y_predict = RBF_Gaussian_kernel(x_train, y_train, x_valid, thet, lamb)\n",
    "    RMSE = np.sqrt(np.mean(np.square(y_valid-y_predict)))\n",
    "    \n",
    "    if not testing_runtime:\n",
    "        print(\"theta={}, lambda={}, RMSE={}\".format(thet, lamb, round(RMSE,6)))\n",
    "    \n",
    "    return RMSE\n",
    "    \n",
    "def estimate_best_param(x_train, y_train, x_valid, y_valid, thetas, lambdas):\n",
    "    \n",
    "    \"\"\"\n",
    "    Estimates the best theta and lambda values for optimal model results\n",
    "    (i.e., tunes the model hyperparameters).\n",
    "    \"\"\"\n",
    "    \n",
    "    N = x_train.shape[0] # number of training points\n",
    "    RMSE = np.empty((len(thetas), len(lambdas)))\n",
    "    \n",
    "    # timing estimate\n",
    "    print(\"Estimating running time...\")\n",
    "    t0 = time.time()\n",
    "    validation_RMSE(x_train, y_train, x_valid, y_valid, thetas[0], lambdas[0], testing_runtime=True)\n",
    "    print(\"Estimated running time: {}s\".format(round((time.time()-t0)*len(thetas)*len(lambdas),2)))\n",
    "    \n",
    "    # start parameter tuning\n",
    "    print(\"Beginning parameter tuning...\")\n",
    "    t0 = time.time()\n",
    "    \n",
    "    for i in range(len(thetas)):\n",
    "        for j in range(len(lambdas)):\n",
    "            RMSE[i,j] = validation_RMSE(x_train, y_train, x_valid, y_valid, thetas[i], lambdas[j])\n",
    "            \n",
    "    best_theta_idx, best_lambda_idx = np.unravel_index(np.argmin(RMSE), RMSE.shape)\n",
    "    best_theta = thetas[best_theta_idx]\n",
    "    best_lambda = lambdas[best_lambda_idx]\n",
    "    print(\"Best: theta={}, lambda={}; with min RMSE={}\".format(best_theta, best_lambda, round(RMSE[best_theta_idx,best_lambda_idx],6)))\n",
    "    return RMSE, best_theta_idx, best_lambda_idx, best_theta, best_lambda"
   ]
  },
  {
   "cell_type": "markdown",
   "id": "25428fec",
   "metadata": {},
   "source": [
    "Run mauna_loa dataset:"
   ]
  },
  {
   "cell_type": "code",
   "execution_count": 9,
   "id": "8a7240cf",
   "metadata": {},
   "outputs": [
    {
     "name": "stdout",
     "output_type": "stream",
     "text": [
      "Estimating running time...\n",
      "Estimated running time: 0.32s\n",
      "Beginning parameter tuning...\n",
      "theta=0.05, lambda=0.001, RMSE=1.219709\n",
      "theta=0.05, lambda=0.01, RMSE=1.117309\n",
      "theta=0.05, lambda=0.1, RMSE=1.082018\n",
      "theta=0.05, lambda=1, RMSE=1.092211\n",
      "theta=0.1, lambda=0.001, RMSE=1.416286\n",
      "theta=0.1, lambda=0.01, RMSE=1.059137\n",
      "theta=0.1, lambda=0.1, RMSE=0.965908\n",
      "theta=0.1, lambda=1, RMSE=0.996726\n",
      "theta=0.5, lambda=0.001, RMSE=0.347101\n",
      "theta=0.5, lambda=0.01, RMSE=0.42772\n",
      "theta=0.5, lambda=0.1, RMSE=0.473741\n",
      "theta=0.5, lambda=1, RMSE=0.606334\n",
      "theta=1, lambda=0.001, RMSE=0.124479\n",
      "theta=1, lambda=0.01, RMSE=0.229495\n",
      "theta=1, lambda=0.1, RMSE=0.339112\n",
      "theta=1, lambda=1, RMSE=0.443615\n",
      "theta=2, lambda=0.001, RMSE=0.201705\n",
      "theta=2, lambda=0.01, RMSE=0.252404\n",
      "theta=2, lambda=0.1, RMSE=0.217145\n",
      "theta=2, lambda=1, RMSE=0.24922\n",
      "Best: theta=1, lambda=0.001; with min RMSE=0.124479\n",
      "RMSE of model on test data for theta=1 and lambda=0.001: 0.149773\n"
     ]
    }
   ],
   "source": [
    "x_train, x_valid, x_test, y_train, y_valid, y_test = load_dataset('mauna_loa')\n",
    "\n",
    "RMSE, best_theta_idx, best_lambda_idx, best_theta, best_lambda = estimate_best_param(x_train, y_train, x_valid, y_valid, thetas, lambdas)\n",
    "\n",
    "x_train = np.vstack([x_train, x_valid])\n",
    "y_train = np.vstack([y_train, y_valid])\n",
    "y_predict = RBF_Gaussian_kernel(x_train, y_train, x_test, best_theta, best_lambda)\n",
    "RMSE_test = np.sqrt(np.mean(np.square(y_test-y_predict)))\n",
    "print(\"RMSE of model on test data for theta={} and lambda={}: {}\".format(best_theta, best_lambda, round(RMSE_test,6)))"
   ]
  },
  {
   "cell_type": "markdown",
   "id": "2bf9e756",
   "metadata": {},
   "source": [
    "Run rosenbrock dataset:"
   ]
  },
  {
   "cell_type": "code",
   "execution_count": 10,
   "id": "61b23c9b",
   "metadata": {
    "scrolled": true
   },
   "outputs": [
    {
     "name": "stdout",
     "output_type": "stream",
     "text": [
      "Estimating running time...\n",
      "Estimated running time: 2.62s\n",
      "Beginning parameter tuning...\n",
      "theta=0.05, lambda=0.001, RMSE=0.735463\n",
      "theta=0.05, lambda=0.01, RMSE=0.738913\n",
      "theta=0.05, lambda=0.1, RMSE=0.752307\n",
      "theta=0.05, lambda=1, RMSE=0.808103\n",
      "theta=0.1, lambda=0.001, RMSE=0.626585\n",
      "theta=0.1, lambda=0.01, RMSE=0.632028\n",
      "theta=0.1, lambda=0.1, RMSE=0.647735\n",
      "theta=0.1, lambda=1, RMSE=0.720521\n",
      "theta=0.5, lambda=0.001, RMSE=0.351507\n",
      "theta=0.5, lambda=0.01, RMSE=0.381007\n",
      "theta=0.5, lambda=0.1, RMSE=0.419093\n",
      "theta=0.5, lambda=1, RMSE=0.513313\n",
      "theta=1, lambda=0.001, RMSE=0.257236\n",
      "theta=1, lambda=0.01, RMSE=0.297407\n",
      "theta=1, lambda=0.1, RMSE=0.358185\n",
      "theta=1, lambda=1, RMSE=0.466635\n",
      "theta=2, lambda=0.001, RMSE=0.19324\n",
      "theta=2, lambda=0.01, RMSE=0.241027\n",
      "theta=2, lambda=0.1, RMSE=0.311707\n",
      "theta=2, lambda=1, RMSE=0.436547\n",
      "Best: theta=2, lambda=0.001; with min RMSE=0.19324\n",
      "RMSE of model on test data for theta=2 and lambda=0.001: 0.148124\n"
     ]
    }
   ],
   "source": [
    "x_train, x_valid, x_test, y_train, y_valid, y_test = load_dataset('rosenbrock', n_train=1000, d=2)\n",
    "\n",
    "RMSE, best_theta_idx, best_lambda_idx, best_theta, best_lambda = estimate_best_param(x_train, y_train, x_valid, y_valid, thetas, lambdas)\n",
    "\n",
    "x_train = np.vstack([x_train, x_valid])\n",
    "y_train = np.vstack([y_train, y_valid])\n",
    "y_predict = RBF_Gaussian_kernel(x_train, y_train, x_test, best_theta, best_lambda)\n",
    "RMSE_test = np.sqrt(np.mean(np.square(y_test-y_predict)))\n",
    "print(\"RMSE of model on test data for theta={} and lambda={}: {}\".format(best_theta, best_lambda, round(RMSE_test,6)))"
   ]
  }
 ],
 "metadata": {
  "kernelspec": {
   "display_name": "Python 3 (ipykernel)",
   "language": "python",
   "name": "python3"
  },
  "language_info": {
   "codemirror_mode": {
    "name": "ipython",
    "version": 3
   },
   "file_extension": ".py",
   "mimetype": "text/x-python",
   "name": "python",
   "nbconvert_exporter": "python",
   "pygments_lexer": "ipython3",
   "version": "3.11.5"
  }
 },
 "nbformat": 4,
 "nbformat_minor": 5
}
